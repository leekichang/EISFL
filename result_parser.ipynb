{
 "cells": [
  {
   "cell_type": "code",
   "execution_count": 1,
   "metadata": {},
   "outputs": [],
   "source": [
    "import pickle\n",
    "import numpy as np\n",
    "import matplotlib.pyplot as plt"
   ]
  },
  {
   "cell_type": "code",
   "execution_count": 24,
   "metadata": {},
   "outputs": [
    {
     "name": "stdout",
     "output_type": "stream",
     "text": [
      "No Defense 47.08±12.33\n",
      "No Defense 0.0457±0.17\n",
      "No Defense 61.28\n",
      "No Defense 0.0000\n",
      "    GP 0.7 23.20±14.07\n",
      "    GP 0.7 0.1899±0.22\n",
      "    GP 0.7 64.06\n",
      "    GP 0.7 0.0000\n",
      "    GP 0.9 4.92±0.53\n",
      "    GP 0.9 0.6951±0.04\n",
      "    GP 0.9 6.34\n",
      "    GP 0.9 0.5385\n",
      "   GP 0.99 4.47±0.34\n",
      "   GP 0.99 0.7491±0.03\n",
      "   GP 0.99 5.20\n",
      "   GP 0.99 0.6867\n",
      "      DP-S 7.86±2.78\n",
      "      DP-S 0.4499±0.14\n",
      "      DP-S 20.73\n",
      "      DP-S 0.0402\n",
      "      DP-M 6.88±2.17\n",
      "      DP-M 0.5278±0.10\n",
      "      DP-M 14.77\n",
      "      DP-M 0.3260\n",
      "      DP-L 7.49±1.76\n",
      "      DP-L 0.5627±0.08\n",
      "      DP-L 11.79\n",
      "      DP-L 0.3647\n",
      "     EISFL 4.95±0.21\n",
      "     EISFL 0.7561±0.02\n",
      "     EISFL 5.31\n",
      "     EISFL 0.6871\n"
     ]
    }
   ],
   "source": [
    "import csv\n",
    "\n",
    "methods = ['No Defense', 'GP 0.7', 'GP 0.9', 'GP 0.99', 'DP-S', 'DP-M', 'DP-L', 'EISFL']\n",
    "mnist_results_path = ['./results/NoDefense/IG/',\n",
    "                      './results/GradPrune_0.7/IG/',\n",
    "                      './results/GradPrune_0.9/IG/',\n",
    "                      './results/GradPrune_0.99/IG/',\n",
    "                      './results/DP/IG_MNIST_8.0_1e-05/',\n",
    "                      './results/DP/IG_MNIST_2.0_1e-05/',\n",
    "                      './results/DP/IG_MNIST_0.5_1e-05/',\n",
    "                      './results/eisfl/IG/']\n",
    "\n",
    "psnrs_mean = {m:[] for m in methods}\n",
    "lpips = {m:[] for m in methods}\n",
    "for idx, p in enumerate(mnist_results_path):\n",
    "    with open(p + 'result.pickle', 'rb') as f:\n",
    "        results = pickle.load(f)\n",
    "    print(f'{methods[idx]:>10} {np.mean(results[\"psnr\"]):.2f}±{np.std(results[\"psnr\"]):.2f}')\n",
    "    print(f'{methods[idx]:>10} {np.mean(results[\"lpips\"]):.4f}±{np.std(results[\"lpips\"]):.2f}')\n",
    "    print(f'{methods[idx]:>10} {np.max(results[\"psnr\"]):.2f}')\n",
    "    print(f'{methods[idx]:>10} {np.min(results[\"lpips\"]):.4f}')\n",
    "    # Save the data to a CSV file\n",
    "    with open('mnist_results.csv', 'w', newline='') as csvfile:\n",
    "        fieldnames = ['Method', 'Mean PSNR', 'Mean LPIPS', 'Best PSNR', 'Best LPIPS']\n",
    "        writer = csv.DictWriter(csvfile, fieldnames=fieldnames)\n",
    "\n",
    "        writer.writeheader()\n",
    "        for idx, p in enumerate(mnist_results_path):\n",
    "            with open(p + 'result.pickle', 'rb') as f:\n",
    "                results = pickle.load(f)\n",
    "            method = methods[idx]\n",
    "            writer.writerow({\n",
    "                'Method': method,\n",
    "                'Mean PSNR': f\"{np.mean(results['psnr']):.2f}±{np.std(results['psnr']):.2f}\",\n",
    "                'Mean LPIPS': f\"{np.mean(results['lpips']):.4f}±{np.std(results['lpips']):.2f}\",\n",
    "                'Best PSNR': f\"{np.max(results['psnr']):.2f}\",\n",
    "                'Best LPIPS': f\"{np.min(results['lpips']):.4f}\"})"
   ]
  },
  {
   "cell_type": "code",
   "execution_count": 26,
   "metadata": {},
   "outputs": [
    {
     "name": "stdout",
     "output_type": "stream",
     "text": [
      "No Defense 18.11±6.77\n",
      "No Defense 0.3684±0.24\n",
      "No Defense 30.46\n",
      "No Defense 0.0705\n",
      "    GP 0.7 17.30±5.25\n",
      "    GP 0.7 0.4253±0.17\n",
      "    GP 0.7 26.69\n",
      "    GP 0.7 0.1761\n",
      "    GP 0.9 13.17±3.73\n",
      "    GP 0.9 0.6106±0.10\n",
      "    GP 0.9 20.47\n",
      "    GP 0.9 0.3650\n",
      "   GP 0.99 9.02±1.57\n",
      "   GP 0.99 0.7293±0.05\n",
      "   GP 0.99 12.11\n",
      "   GP 0.99 0.5921\n",
      "      DP-S 19.08±5.76\n",
      "      DP-S 0.3319±0.21\n",
      "      DP-S 30.26\n",
      "      DP-S 0.0691\n",
      "      DP-M 15.60±4.01\n",
      "      DP-M 0.5191±0.12\n",
      "      DP-M 24.33\n",
      "      DP-M 0.3144\n",
      "      DP-L 9.92±1.96\n",
      "      DP-L 0.7130±0.06\n",
      "      DP-L 14.36\n",
      "      DP-L 0.5217\n",
      "     EISFL 11.74±2.92\n",
      "     EISFL 0.6257±0.07\n",
      "     EISFL 21.12\n",
      "     EISFL 0.3998\n"
     ]
    }
   ],
   "source": [
    "import csv\n",
    "\n",
    "methods = ['No Defense', 'GP 0.7', 'GP 0.9', 'GP 0.99', 'DP-S', 'DP-M', 'DP-L', 'EISFL']\n",
    "mnist_results_path = ['./results/NoDefense/IG_CIFAR10_a0.1/',\n",
    "                      './results/GradPrune_0.7/IG_CIFAR10/',\n",
    "                      './results/GradPrune_0.9/IG_CIFAR10/',\n",
    "                      './results/GradPrune_0.99/IG_CIFAR10/',\n",
    "                      './results/DP/IG_CIFAR10_8.0_1e-05/',\n",
    "                      './results/DP/IG_CIFAR10_2.0_1e-05/',\n",
    "                      './results/DP/IG_CIFAR10_0.5_1e-05/',\n",
    "                      './results/eisfl/IG_CIFAR10/']\n",
    "\n",
    "psnrs_mean = {m:[] for m in methods}\n",
    "lpips = {m:[] for m in methods}\n",
    "for idx, p in enumerate(mnist_results_path):\n",
    "    with open(p + 'result.pickle', 'rb') as f:\n",
    "        results = pickle.load(f)\n",
    "    print(f'{methods[idx]:>10} {np.mean(results[\"psnr\"]):.2f}±{np.std(results[\"psnr\"]):.2f}')\n",
    "    print(f'{methods[idx]:>10} {np.mean(results[\"lpips\"]):.4f}±{np.std(results[\"lpips\"]):.2f}')\n",
    "    print(f'{methods[idx]:>10} {np.max(results[\"psnr\"]):.2f}')\n",
    "    print(f'{methods[idx]:>10} {np.min(results[\"lpips\"]):.4f}')\n",
    "    # Save the data to a CSV file\n",
    "    with open('cifar10_results.csv', 'w', newline='') as csvfile:\n",
    "        fieldnames = ['Method', 'Mean PSNR', 'Mean LPIPS', 'Best PSNR', 'Best LPIPS']\n",
    "        writer = csv.DictWriter(csvfile, fieldnames=fieldnames)\n",
    "\n",
    "        writer.writeheader()\n",
    "        for idx, p in enumerate(mnist_results_path):\n",
    "            with open(p + 'result.pickle', 'rb') as f:\n",
    "                results = pickle.load(f)\n",
    "            method = methods[idx]\n",
    "            writer.writerow({\n",
    "                'Method': method,\n",
    "                'Mean PSNR': f\"{np.mean(results['psnr']):.2f}±{np.std(results['psnr']):.2f}\",\n",
    "                'Mean LPIPS': f\"{np.mean(results['lpips']):.4f}±{np.std(results['lpips']):.2f}\",\n",
    "                'Best PSNR': f\"{np.max(results['psnr']):.2f}\",\n",
    "                'Best LPIPS': f\"{np.min(results['lpips']):.4f}\"})"
   ]
  },
  {
   "cell_type": "code",
   "execution_count": 31,
   "metadata": {},
   "outputs": [
    {
     "name": "stdout",
     "output_type": "stream",
     "text": [
      "No Defense 12.21±4.88\n",
      "No Defense 0.6300±0.17\n",
      "No Defense 21.32\n",
      "No Defense 0.3372\n",
      "    GP 0.7 12.28±4.15\n",
      "    GP 0.7 0.6632±0.13\n",
      "    GP 0.7 20.26\n",
      "    GP 0.7 0.4197\n",
      "    GP 0.9 10.23±2.33\n",
      "    GP 0.9 0.7353±0.07\n",
      "    GP 0.9 15.15\n",
      "    GP 0.9 0.6198\n",
      "   GP 0.99 8.31±0.96\n",
      "   GP 0.99 0.7990±0.04\n",
      "   GP 0.99 10.44\n",
      "   GP 0.99 0.7089\n",
      "      DP-S 12.33±4.75\n",
      "      DP-S 0.6257±0.17\n",
      "      DP-S 20.88\n",
      "      DP-S 0.2371\n",
      "      DP-M 12.14±4.67\n",
      "      DP-M 0.6801±0.12\n",
      "      DP-M 20.08\n",
      "      DP-M 0.4952\n",
      "      DP-L 8.25±1.02\n",
      "      DP-L 0.7990±0.04\n",
      "      DP-L 10.38\n",
      "      DP-L 0.7042\n",
      "     EISFL 9.91±2.38\n",
      "     EISFL 0.7596±0.05\n",
      "     EISFL 16.18\n",
      "     EISFL 0.5770\n"
     ]
    }
   ],
   "source": [
    "import csv\n",
    "\n",
    "methods = ['No Defense', 'GP 0.7', 'GP 0.9', 'GP 0.99', 'DP-S', 'DP-M', 'DP-L', 'EISFL']\n",
    "mnist_results_path = ['./results/NoDefense/IG_STL10/',\n",
    "                      './results/GradPrune_0.7/IG_STL10_GradPrune_0.7/',\n",
    "                      './results/GradPrune_0.9/IG_STL10_GradPrune_0.9/',\n",
    "                      './results/GradPrune_0.99/IG_STL10_GradPrune_0.99/',\n",
    "                      './results/DP/IG_STL10_8.0_1e-05/',\n",
    "                      './results/DP/IG_STL10_2.0_1e-05/',\n",
    "                      './results/DP/IG_STL10_0.5_1e-05/',\n",
    "                      './results/EISFL/IG_STL10/']\n",
    "\n",
    "psnrs_mean = {m:[] for m in methods}\n",
    "lpips = {m:[] for m in methods}\n",
    "for idx, p in enumerate(mnist_results_path):\n",
    "    with open(p + 'result.pickle', 'rb') as f:\n",
    "        results = pickle.load(f)\n",
    "    print(f'{methods[idx]:>10} {np.mean(results[\"psnr\"]):.2f}±{np.std(results[\"psnr\"]):.2f}')\n",
    "    print(f'{methods[idx]:>10} {np.mean(results[\"lpips\"]):.4f}±{np.std(results[\"lpips\"]):.2f}')\n",
    "    print(f'{methods[idx]:>10} {np.max(results[\"psnr\"]):.2f}')\n",
    "    print(f'{methods[idx]:>10} {np.min(results[\"lpips\"]):.4f}')\n",
    "    # Save the data to a CSV file\n",
    "    with open('stl10_results.csv', 'w', newline='') as csvfile:\n",
    "        fieldnames = ['Method', 'Mean PSNR', 'Mean LPIPS', 'Best PSNR', 'Best LPIPS']\n",
    "        writer = csv.DictWriter(csvfile, fieldnames=fieldnames)\n",
    "\n",
    "        writer.writeheader()\n",
    "        for idx, p in enumerate(mnist_results_path):\n",
    "            with open(p + 'result.pickle', 'rb') as f:\n",
    "                results = pickle.load(f)\n",
    "            method = methods[idx]\n",
    "            writer.writerow({\n",
    "                'Method': method,\n",
    "                'Mean PSNR': f\"{np.mean(results['psnr']):.2f}±{np.std(results['psnr']):.2f}\",\n",
    "                'Mean LPIPS': f\"{np.mean(results['lpips']):.4f}±{np.std(results['lpips']):.2f}\",\n",
    "                'Best PSNR': f\"{np.max(results['psnr']):.2f}\",\n",
    "                'Best LPIPS': f\"{np.min(results['lpips']):.4f}\"})"
   ]
  },
  {
   "cell_type": "code",
   "execution_count": 118,
   "metadata": {},
   "outputs": [
    {
     "name": "stdout",
     "output_type": "stream",
     "text": [
      "No Defense 11.35±66.48\n",
      "No Defense 47.98\n",
      "86 75\n",
      "79 71\n",
      "63 0\n"
     ]
    },
    {
     "ename": "ValueError",
     "evalue": "zero-size array to reduction operation maximum which has no identity",
     "output_type": "error",
     "traceback": [
      "\u001b[0;31m---------------------------------------------------------------------------\u001b[0m",
      "\u001b[0;31mValueError\u001b[0m                                Traceback (most recent call last)",
      "\u001b[0;32m<ipython-input-118-8ea62cbe25bb>\u001b[0m in \u001b[0;36m<module>\u001b[0;34m\u001b[0m\n\u001b[1;32m     59\u001b[0m                 \u001b[0;34m'Mean PSNR'\u001b[0m\u001b[0;34m:\u001b[0m \u001b[0;34mf\"{np.mean(psnrs):.2f}±{np.std(psnrs):.2f}\"\u001b[0m\u001b[0;34m,\u001b[0m\u001b[0;34m\u001b[0m\u001b[0;34m\u001b[0m\u001b[0m\n\u001b[1;32m     60\u001b[0m                 \u001b[0;34m'Mean MSE'\u001b[0m\u001b[0;34m:\u001b[0m \u001b[0;34mf\"{np.mean(mses):.4f}±{np.std(mses):.2f}\"\u001b[0m\u001b[0;34m,\u001b[0m\u001b[0;34m\u001b[0m\u001b[0;34m\u001b[0m\u001b[0m\n\u001b[0;32m---> 61\u001b[0;31m                 \u001b[0;34m'Best PSNR'\u001b[0m\u001b[0;34m:\u001b[0m \u001b[0;34mf\"{np.max(psnrs):.2f}\"\u001b[0m\u001b[0;34m,\u001b[0m\u001b[0;34m\u001b[0m\u001b[0;34m\u001b[0m\u001b[0m\n\u001b[0m\u001b[1;32m     62\u001b[0m                 'Best MSE': f\"{np.min(mses):.4f}\"})\n",
      "\u001b[0;32m<__array_function__ internals>\u001b[0m in \u001b[0;36mamax\u001b[0;34m(*args, **kwargs)\u001b[0m\n",
      "\u001b[0;32m/usr/local/lib/python3.8/dist-packages/numpy/core/fromnumeric.py\u001b[0m in \u001b[0;36mamax\u001b[0;34m(a, axis, out, keepdims, initial, where)\u001b[0m\n\u001b[1;32m   2703\u001b[0m     \u001b[0;36m5\u001b[0m\u001b[0;34m\u001b[0m\u001b[0;34m\u001b[0m\u001b[0m\n\u001b[1;32m   2704\u001b[0m     \"\"\"\n\u001b[0;32m-> 2705\u001b[0;31m     return _wrapreduction(a, np.maximum, 'max', axis, None, out,\n\u001b[0m\u001b[1;32m   2706\u001b[0m                           keepdims=keepdims, initial=initial, where=where)\n\u001b[1;32m   2707\u001b[0m \u001b[0;34m\u001b[0m\u001b[0m\n",
      "\u001b[0;32m/usr/local/lib/python3.8/dist-packages/numpy/core/fromnumeric.py\u001b[0m in \u001b[0;36m_wrapreduction\u001b[0;34m(obj, ufunc, method, axis, dtype, out, **kwargs)\u001b[0m\n\u001b[1;32m     85\u001b[0m                 \u001b[0;32mreturn\u001b[0m \u001b[0mreduction\u001b[0m\u001b[0;34m(\u001b[0m\u001b[0maxis\u001b[0m\u001b[0;34m=\u001b[0m\u001b[0maxis\u001b[0m\u001b[0;34m,\u001b[0m \u001b[0mout\u001b[0m\u001b[0;34m=\u001b[0m\u001b[0mout\u001b[0m\u001b[0;34m,\u001b[0m \u001b[0;34m**\u001b[0m\u001b[0mpasskwargs\u001b[0m\u001b[0;34m)\u001b[0m\u001b[0;34m\u001b[0m\u001b[0;34m\u001b[0m\u001b[0m\n\u001b[1;32m     86\u001b[0m \u001b[0;34m\u001b[0m\u001b[0m\n\u001b[0;32m---> 87\u001b[0;31m     \u001b[0;32mreturn\u001b[0m \u001b[0mufunc\u001b[0m\u001b[0;34m.\u001b[0m\u001b[0mreduce\u001b[0m\u001b[0;34m(\u001b[0m\u001b[0mobj\u001b[0m\u001b[0;34m,\u001b[0m \u001b[0maxis\u001b[0m\u001b[0;34m,\u001b[0m \u001b[0mdtype\u001b[0m\u001b[0;34m,\u001b[0m \u001b[0mout\u001b[0m\u001b[0;34m,\u001b[0m \u001b[0;34m**\u001b[0m\u001b[0mpasskwargs\u001b[0m\u001b[0;34m)\u001b[0m\u001b[0;34m\u001b[0m\u001b[0;34m\u001b[0m\u001b[0m\n\u001b[0m\u001b[1;32m     88\u001b[0m \u001b[0;34m\u001b[0m\u001b[0m\n\u001b[1;32m     89\u001b[0m \u001b[0;34m\u001b[0m\u001b[0m\n",
      "\u001b[0;31mValueError\u001b[0m: zero-size array to reduction operation maximum which has no identity"
     ]
    }
   ],
   "source": [
    "import csv\n",
    "\n",
    "methods = ['No Defense', 'GP 0.7', 'GP 0.9', 'GP 0.99', 'DP-S', 'DP-M', 'DP-L', 'EISFL']\n",
    "dataset = 'MITBIH'\n",
    "mnist_results_path = [f'./results/NoDefense/IG_{dataset}/',\n",
    "                      f'./results/GradPrune_0.7/IG_{dataset}_GradPrune_0.7/',\n",
    "                      f'./results/GradPrune_0.9/IG_{dataset}_GradPrune_0.9/',\n",
    "                      f'./results/GradPrune_0.99/IG_{dataset}_GradPrune_0.99/',\n",
    "                      f'./results/DP/IG_{dataset}_8.0_1e-05/',\n",
    "                      f'./results/DP/IG_{dataset}_2.0_1e-05/',\n",
    "                      f'./results/DP/IG_{dataset}_0.5_1e-05/',\n",
    "                      f'./results/EISFL/IG_{dataset}/']\n",
    "def filter_mse(mses):\n",
    "    idx = np.array(mses)< 10\n",
    "    return np.array(mses)[idx]\n",
    "\n",
    "def filter_psnr(mses):\n",
    "    idx = np.array(mses) >= 0\n",
    "    return np.array(mses)[idx]\n",
    "\n",
    "def MSE(x, y):\n",
    "    return np.mean((x-y)**2)\n",
    "\n",
    "def get_result(pred_path):\n",
    "    # pred_path = './results/EISFL/IG_MITBIH/'\n",
    "    gt_path   = './results/NoDefense/IG_MITBIH/'\n",
    "    psnrs = []\n",
    "    mses  = []\n",
    "    for i in range(100):\n",
    "        pred = np.load(pred_path + f'{i}_result.npy')[-360:]\n",
    "        gt = np.load(gt_path + f'{i}.npy').reshape(-1)[-360:]\n",
    "        mse = MSE(pred, gt)\n",
    "        psrn = 10 * np.log10(1/mse)\n",
    "        psnrs.append(psrn)\n",
    "        mses.append(mse)   \n",
    "    psnrs = filter_psnr(psnrs)\n",
    "    mses = filter_mse(mses)\n",
    "    return psnrs,mses\n",
    "\n",
    "psnrs_mean = {m:[] for m in methods}\n",
    "lpips = {m:[] for m in methods}\n",
    "for idx, p in enumerate(mnist_results_path):\n",
    "    with open(p + 'result.pickle', 'rb') as f:\n",
    "        results = pickle.load(f)\n",
    "    print(f'{methods[idx]:>10} {np.mean(results[\"psnr\"]):.2f}±{np.std(results[\"psnr\"]):.2f}')\n",
    "    print(f'{methods[idx]:>10} {np.max(results[\"psnr\"]):.2f}')\n",
    "    # Save the data to a CSV file\n",
    "    with open(f'{dataset}_results.csv', 'w', newline='') as csvfile:\n",
    "        fieldnames = ['Method', 'Mean PSNR', 'Best PSNR', 'Mean MSE', 'Best MSE']\n",
    "        writer = csv.DictWriter(csvfile, fieldnames=fieldnames)\n",
    "\n",
    "        writer.writeheader()\n",
    "        for idx, p in enumerate(mnist_results_path):\n",
    "            method = methods[idx]\n",
    "            psnrs, mses = get_result(mnist_results_path[idx])\n",
    "            print(len(mses), len(psnrs))\n",
    "            writer.writerow({\n",
    "                'Method': method,\n",
    "                'Mean PSNR': f\"{np.mean(psnrs):.2f}±{np.std(psnrs):.2f}\",\n",
    "                'Mean MSE': f\"{np.mean(mses):.4f}±{np.std(mses):.2f}\",\n",
    "                'Best PSNR': f\"{np.max(psnrs):.2f}\",\n",
    "                'Best MSE': f\"{np.min(mses):.4f}\"})"
   ]
  },
  {
   "cell_type": "code",
   "execution_count": 59,
   "metadata": {},
   "outputs": [
    {
     "data": {
      "text/plain": [
       "36"
      ]
     },
     "execution_count": 59,
     "metadata": {},
     "output_type": "execute_result"
    }
   ],
   "source": [
    "np.argmax(results['psnr'])"
   ]
  },
  {
   "cell_type": "code",
   "execution_count": 55,
   "metadata": {},
   "outputs": [
    {
     "name": "stdout",
     "output_type": "stream",
     "text": [
      "87\n",
      "87\n"
     ]
    },
    {
     "data": {
      "image/png": "[encoded data removed]",
      "text/plain": [
       "<Figure size 432x288 with 1 Axes>"
      ]
     },
     "metadata": {
      "needs_background": "light"
     },
     "output_type": "display_data"
    }
   ],
   "source": [
    "def filter_mse(mses):\n",
    "    idx = np.array(mses)< 10\n",
    "    return np.array(mses)[idx]\n",
    "\n",
    "def filter_psnr(mses):\n",
    "    idx = np.array(mses) >= 0\n",
    "    print(sum(idx))\n",
    "    return np.array(mses)[idx]\n",
    "\n",
    "# plt.scatter(np.arange(len(filter_mse(results['psrn']))), filter_mse(results['mse']))\n",
    "plt.scatter(np.zeros(len(filter_psnr(results['psnr']))), filter_psnr(results['psnr']))\n",
    "plt.show()"
   ]
  },
  {
   "cell_type": "code",
   "execution_count": 93,
   "metadata": {},
   "outputs": [
    {
     "name": "stdout",
     "output_type": "stream",
     "text": [
      "1.52±43.42\n",
      "0.1976±0.80\n",
      "22.69\n",
      "0.0054\n"
     ]
    }
   ],
   "source": [
    "def MSE(x, y):\n",
    "    return np.mean((x-y)**2)\n",
    "def get_result():\n",
    "    pred_path = './results/EISFL/IG_MITBIH/'\n",
    "    gt_path   = './results/NoDefense/IG_MITBIH/'\n",
    "    psnrs = []\n",
    "    mses  = []\n",
    "    for i in range(100):\n",
    "        pred = np.load(pred_path + f'{i}_result.npy')[-200:]\n",
    "        gt = np.load(gt_path + f'{i}.npy').reshape(-1)[-200:]\n",
    "        mse = MSE(pred, gt)\n",
    "        psrn = 10 * np.log10(1/mse)\n",
    "        psnrs.append(psrn)\n",
    "        mses.append(mse)   \n",
    "    psrns = filter_psnr(psnrs)\n",
    "    mses = filter_mse(mses)\n",
    "    return psnrs,mses\n",
    "\n",
    "psnrs, mses = get_result(MSE)\n",
    "\n",
    "print(f'{np.mean(psnrs):.2f}±{np.std(psnrs):.2f}')\n",
    "print(f'{np.mean(mses):.4f}±{np.std(mses):.2f}')\n",
    "print(f'{np.max(psnrs):.2f}')\n",
    "print(f'{np.min(mses):.4f}')"
   ]
  },
  {
   "cell_type": "code",
   "execution_count": 92,
   "metadata": {},
   "outputs": [
    {
     "name": "stdout",
     "output_type": "stream",
     "text": [
      "12.08±37.12\n",
      "0.1739±0.52\n",
      "35.35\n",
      "0.0003\n"
     ]
    }
   ],
   "source": [
    "print(f'{np.mean(psnrs):.2f}±{np.std(psnrs):.2f}')\n",
    "print(f'{np.mean(mses):.4f}±{np.std(mses):.2f}')\n",
    "print(f'{np.max(psnrs):.2f}')\n",
    "print(f'{np.min(mses):.4f}')"
   ]
  },
  {
   "cell_type": "code",
   "execution_count": 76,
   "metadata": {},
   "outputs": [
    {
     "name": "stdout",
     "output_type": "stream",
     "text": [
      "29\n"
     ]
    },
    {
     "data": {
      "image/png": "[encoded data removed]",
      "text/plain": [
       "<Figure size 432x288 with 1 Axes>"
      ]
     },
     "metadata": {
      "needs_background": "light"
     },
     "output_type": "display_data"
    }
   ],
   "source": [
    "print(np.argmin(mses))\n",
    "plt.plot(np.load(pred_path + f'{np.argmin(mses)}_result.npy')[-200:])\n",
    "plt.plot(np.load(gt_path + f'{np.argmin(mses)}.npy').reshape(-1)[-200:])\n",
    "plt.show()"
   ]
  }
 ],
 "metadata": {
  "kernelspec": {
   "display_name": "Python 3",
   "language": "python",
   "name": "python3"
  },
  "language_info": {
   "codemirror_mode": {
    "name": "ipython",
    "version": 3
   },
   "file_extension": ".py",
   "mimetype": "text/x-python",
   "name": "python",
   "nbconvert_exporter": "python",
   "pygments_lexer": "ipython3",
   "version": "3.8.10"
  }
 },
 "nbformat": 4,
 "nbformat_minor": 2
}
